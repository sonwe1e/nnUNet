{
 "cells": [
  {
   "cell_type": "code",
   "execution_count": 7,
   "metadata": {},
   "outputs": [
    {
     "ename": "AttributeError",
     "evalue": "'NpzFile' object has no attribute 'shape'",
     "output_type": "error",
     "traceback": [
      "\u001b[0;31m---------------------------------------------------------------------------\u001b[0m",
      "\u001b[0;31mAttributeError\u001b[0m                            Traceback (most recent call last)",
      "Cell \u001b[0;32mIn[7], line 5\u001b[0m\n\u001b[1;32m      3\u001b[0m ex_path \u001b[38;5;241m=\u001b[39m \u001b[38;5;124m'\u001b[39m\u001b[38;5;124m/data2/songwei/Data/processed/Dataset010_IXI_LargeIA_ALL/nnUNetPlans_3d_fullres/IXI046-Guys-0824-MRA.npz\u001b[39m\u001b[38;5;124m'\u001b[39m\n\u001b[1;32m      4\u001b[0m ex_data \u001b[38;5;241m=\u001b[39m np\u001b[38;5;241m.\u001b[39mload(ex_path)\n\u001b[0;32m----> 5\u001b[0m \u001b[43mex_data\u001b[49m\u001b[38;5;241;43m.\u001b[39;49m\u001b[43mshape\u001b[49m\n",
      "\u001b[0;31mAttributeError\u001b[0m: 'NpzFile' object has no attribute 'shape'"
     ]
    }
   ],
   "source": [
    "import numpy as np\n",
    "\n",
    "ex_path = '/data2/songwei/Data/processed/Dataset010_IXI_LargeIA_ALL/nnUNetPlans_3d_fullres/IXI046-Guys-0824-MRA.npy'\n",
    "ex_data = np.load(ex_path)\n",
    "ex_data.shape"
   ]
  },
  {
   "cell_type": "code",
   "execution_count": 5,
   "metadata": {},
   "outputs": [
    {
     "data": {
      "text/plain": [
       "(1, 100, 512, 432)"
      ]
     },
     "execution_count": 5,
     "metadata": {},
     "output_type": "execute_result"
    }
   ],
   "source": [
    "ex_label_path = '/data2/songwei/Data/processed/Dataset010_IXI_LargeIA_ALL/nnUNetPlans_3d_fullres/IXI046-Guys-0824-MRA_seg.npy'\n",
    "ex_label = np.load(ex_label_path)\n",
    "ex_label.shape"
   ]
  },
  {
   "cell_type": "code",
   "execution_count": 6,
   "metadata": {},
   "outputs": [
    {
     "data": {
      "text/plain": [
       "(21.870064, -0.7824818, 5, -1)"
      ]
     },
     "execution_count": 6,
     "metadata": {},
     "output_type": "execute_result"
    }
   ],
   "source": [
    "ex_data.max(), ex_data.min(), ex_label.max(), ex_label.min()"
   ]
  },
  {
   "cell_type": "code",
   "execution_count": null,
   "metadata": {},
   "outputs": [],
   "source": [
    "import torch\n",
    "import torch.nn as nn\n",
    "\n",
    "class DoubleConv(nn.Module):\n",
    "    \"\"\"(Conv3D -> IN -> LeakyReLU) * 2\"\"\"\n",
    "\n",
    "    def __init__(self, in_channels, out_channels):\n",
    "        super().__init__()\n",
    "        self.double_conv = nn.Sequential(\n",
    "            nn.Conv3d(in_channels, out_channels, 1, 1, 0),\n",
    "            nn.InstanceNorm3d(out_channels),\n",
    "            nn.LeakyReLU(inplace=True),\n",
    "            nn.Conv3d(out_channels, out_channels, 3, 1, 1, groups=8),\n",
    "            nn.InstanceNorm3d(out_channels),\n",
    "            nn.LeakyReLU(inplace=True),\n",
    "            nn.Conv3d(out_channels, out_channels, 1, 1, 0),\n",
    "            nn.InstanceNorm3d(out_channels),\n",
    "            nn.LeakyReLU(inplace=True),\n",
    "        )\n",
    "        self.residual = in_channels == out_channels\n",
    "\n",
    "    def forward(self, x):\n",
    "        return self.double_conv(x) + x if self.residual else self.double_conv(x)\n",
    "\n",
    "\n",
    "class MyNet(nn.Module):\n",
    "    def __init__(self, in_channels, n_classes, n_channels, depth=4, head_channels=16):\n",
    "        super().__init__()\n",
    "        self.in_channels = in_channels\n",
    "        self.n_classes = n_classes\n",
    "        self.n_channels = n_channels\n",
    "        self.depth = depth # 添加网络深度参数\n",
    "        self.head_channels = head_channels\n",
    "\n",
    "        self.conv = DoubleConv(in_channels, n_channels)\n",
    "        self.encoders = nn.ModuleList() # 使用 ModuleList 存储编码器层\n",
    "        self.decoders = nn.ModuleList() # 使用 ModuleList 存储解码器层\n",
    "\n",
    "        # 创建编码器层\n",
    "        for i in range(self.depth):\n",
    "            in_channels = n_channels * 2**i\n",
    "            out_channels = n_channels * 2**(i+1)\n",
    "            self.encoders.append(Down(in_channels, out_channels))\n",
    "\n",
    "        # 创建解码器层\n",
    "        for i in range(self.depth-1, -1, -1):\n",
    "            in_channels = n_channels * 2**(i+2)\n",
    "            out_channels = n_channels * 2**i\n",
    "            self.decoders.append(Up(in_channels, out_channels))\n",
    "\n",
    "        self.params_list = [\n",
    "            n_channels * head_channels * 2**(self.depth),\n",
    "            head_channels * n_classes,\n",
    "            head_channels,\n",
    "            n_classes,\n",
    "        ]\n",
    "\n",
    "        self.GAP = nn.AdaptiveAvgPool3d(1)\n",
    "        self.controller = nn.Conv3d(n_channels * 2**self.depth + 2, sum(self.params_list), 1)\n",
    "\n",
    "    def encoding_task(self, task_id):\n",
    "        N = task_id.shape[0]\n",
    "        task_encoding = torch.zeros(size=(N, 2))\n",
    "        for i in range(N):\n",
    "            task_encoding[i, task_id[i]] = 1\n",
    "        return task_encoding.cuda()\n",
    "\n",
    "    def forward(self, x, task_id):\n",
    "        x_enc = [self.conv(x)] # 存储编码器输出\n",
    "\n",
    "        # 编码过程\n",
    "        for encoder in self.encoders:\n",
    "            x_enc.append(encoder(x_enc[-1]))\n",
    "\n",
    "        # 解码过程\n",
    "        x_dec = x_enc[-1]\n",
    "        for i, decoder in enumerate(self.decoders):\n",
    "            x_dec = decoder(x_dec, x_enc[-(i+2)])\n",
    "\n",
    "        task_embeddings = self.encoding_task(task_id)\n",
    "        task_embeddings = task_embeddings.unsqueeze(-1).unsqueeze(-1).unsqueeze(-1)\n",
    "        x_feat = self.GAP(x_enc[-1])\n",
    "        x_cond = torch.cat([x_feat, task_embeddings], dim=1)\n",
    "        params = self.controller(x_cond)\n",
    "        params = params.squeeze(-1).squeeze(-1).squeeze(-1)\n",
    "        params_split = torch.split_with_sizes(params, self.params_list, dim=1)\n",
    "        N, _, D, H, W = x_dec.shape\n",
    "        head_feat = x_dec.view(1, -1, D, H, W)\n",
    "        head_feat = F.leaky_relu(\n",
    "            F.conv3d(\n",
    "                head_feat,\n",
    "                params_split[0].reshape(N * self.head_channels, -1, 1, 1, 1),\n",
    "                bias=params_split[2].reshape(N * self.head_channels),\n",
    "                stride=1,\n",
    "                padding=0,\n",
    "                groups=N,\n",
    "            )\n",
    "        )\n",
    "        logits = F.conv3d(\n",
    "            head_feat,\n",
    "            params_split[1].reshape(self.n_classes * N, -1, 1, 1, 1),\n",
    "            bias=params_split[3].reshape(self.n_classes * N),\n",
    "            stride=1,\n",
    "            padding=0,\n",
    "            groups=N,\n",
    "        )\n",
    "        logits = logits.reshape(N, -1, D, H, W)\n",
    "        return logits"
   ]
  }
 ],
 "metadata": {
  "kernelspec": {
   "display_name": "sw",
   "language": "python",
   "name": "python3"
  },
  "language_info": {
   "codemirror_mode": {
    "name": "ipython",
    "version": 3
   },
   "file_extension": ".py",
   "mimetype": "text/x-python",
   "name": "python",
   "nbconvert_exporter": "python",
   "pygments_lexer": "ipython3",
   "version": "3.10.14"
  }
 },
 "nbformat": 4,
 "nbformat_minor": 2
}
